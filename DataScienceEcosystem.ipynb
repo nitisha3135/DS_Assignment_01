{
 "cells": [
  {
   "cell_type": "markdown",
   "id": "5e0a9142-5856-4491-a254-0877c373726d",
   "metadata": {},
   "source": [
    "# Data Science Tools and Ecosystem"
   ]
  },
  {
   "cell_type": "markdown",
   "id": "edff5e3b-585c-4220-9387-2b0785c90972",
   "metadata": {},
   "source": [
    "In this notebook, Data Science Tools and Ecosystem are summarized."
   ]
  },
  {
   "cell_type": "markdown",
   "id": "b1a1a9ec-5228-4b7f-a500-fce32e75d9b7",
   "metadata": {},
   "source": [
    "**Objectives:**"
   ]
  },
  {
   "cell_type": "markdown",
   "id": "e5fe89e1-3846-4d15-8ad5-7d4e6ae00fb1",
   "metadata": {},
   "source": [
    "- Understand and evaluate arithmetic expressions in Python.\n",
    "- Learn how to perform unit conversions (e.g., minutes to hours).\n",
    "- List popular programming languages for Data Science.\n",
    "- Explore fundamental programming concepts in Python.\n",
    "- Gain familiarity with Markdown and its use in notebooks."
   ]
  },
  {
   "cell_type": "markdown",
   "id": "16638d56-395f-40a7-8c08-34d5c2a2a64e",
   "metadata": {},
   "source": [
    "Some of the popular languages that Data Scientists use are:"
   ]
  },
  {
   "cell_type": "markdown",
   "id": "05005a47-d6c4-443e-ae66-3c1fdde09f92",
   "metadata": {},
   "source": [
    "1. Python\n",
    "2. R\n",
    "3. SQL\n",
    "4. Java\n",
    "5. Julia\n",
    "6. Scala\n",
    "7. C++"
   ]
  },
  {
   "cell_type": "markdown",
   "id": "abe8ac21-21e8-4b7c-9d6a-379a57dcaa00",
   "metadata": {},
   "source": [
    "Some of the commonly used libraries used by Data Scientists include:"
   ]
  },
  {
   "cell_type": "markdown",
   "id": "5cdb2871-8565-49c1-ad38-372b48a02c38",
   "metadata": {},
   "source": [
    "1. Matplotlib\n",
    "2. Numpy\n",
    "3. Pandas\n",
    "4. Tensorflow\n",
    "5. Scikit-learn\n",
    "6. Seaborn\n",
    "7. Keras"
   ]
  },
  {
   "cell_type": "markdown",
   "id": "210d0ff4-c3b6-43f5-bafb-b9fca3bb6b30",
   "metadata": {},
   "source": [
    "Table for Data Science Tools"
   ]
  },
  {
   "cell_type": "markdown",
   "id": "3ebc6dcd-8f62-498f-8fc6-b620df8047d8",
   "metadata": {},
   "source": [
    "|Data Science Tools|\n",
    "|------------------|\n",
    "|Tableau|\n",
    "|Apache Spark|\n",
    "|Python|\n",
    "|R|\n",
    "|Apache Hadoop|\n",
    "|SQL|"
   ]
  },
  {
   "cell_type": "markdown",
   "id": "d7486f14-484f-4567-961c-450d9f4ff068",
   "metadata": {},
   "source": [
    "### Below are a few examples of evaluating arithmetic expressions in Python"
   ]
  },
  {
   "cell_type": "markdown",
   "id": "947f11fc-f3cd-47d1-b7d5-555c6df2cb2b",
   "metadata": {},
   "source": [
    "1. Addition: 3 + 5 = 8  \n",
    "2. Subtraction: 10 - 4 = 6  \n",
    "3. Multiplication: 7 * 6 = 42  \n",
    "4. Division: 8 / 2 = 4.0  \n",
    "5. Exponentiation: 2 ** 3 = 8  \n",
    "6. Modulus: 10 % 3 = 1  "
   ]
  },
  {
   "cell_type": "code",
   "execution_count": 1,
   "id": "2ba6c1dc-e4f0-47b2-9054-847f29dd8fa3",
   "metadata": {},
   "outputs": [
    {
     "data": {
      "text/plain": [
       "17"
      ]
     },
     "execution_count": 1,
     "metadata": {},
     "output_type": "execute_result"
    }
   ],
   "source": [
    "# This a simple arithmetic expression to mutiply then add integers\n",
    "(3*4)+5"
   ]
  },
  {
   "cell_type": "code",
   "execution_count": 2,
   "id": "e5dbcd73-2a2c-4191-9d39-ae3968a911af",
   "metadata": {},
   "outputs": [
    {
     "name": "stdout",
     "output_type": "stream",
     "text": [
      "3.3333333333333335\n"
     ]
    }
   ],
   "source": [
    "# This will convert 200 minutes to hours by diving by 60\n",
    "minutes = 200\n",
    "hours = minutes/60\n",
    "print(hours)"
   ]
  },
  {
   "cell_type": "markdown",
   "id": "da56f0b2-70e2-40e4-a07e-308d0d48653a",
   "metadata": {},
   "source": [
    "## Author"
   ]
  },
  {
   "cell_type": "markdown",
   "id": "9a0bb73c-6bec-42ba-a3f1-ddb8aa76ccd2",
   "metadata": {},
   "source": [
    "Nitisha"
   ]
  }
 ],
 "metadata": {
  "kernelspec": {
   "display_name": "Python 3 (ipykernel)",
   "language": "python",
   "name": "python3"
  },
  "language_info": {
   "codemirror_mode": {
    "name": "ipython",
    "version": 3
   },
   "file_extension": ".py",
   "mimetype": "text/x-python",
   "name": "python",
   "nbconvert_exporter": "python",
   "pygments_lexer": "ipython3",
   "version": "3.12.7"
  }
 },
 "nbformat": 4,
 "nbformat_minor": 5
}
